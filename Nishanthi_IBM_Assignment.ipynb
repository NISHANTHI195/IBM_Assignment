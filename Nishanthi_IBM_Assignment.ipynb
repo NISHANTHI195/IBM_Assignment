{
  "metadata": {
    "kernelspec": {
      "name": "python",
      "display_name": "Python (Pyodide)",
      "language": "python"
    },
    "language_info": {
      "codemirror_mode": {
        "name": "python",
        "version": 3
      },
      "file_extension": ".py",
      "mimetype": "text/x-python",
      "name": "python",
      "nbconvert_exporter": "python",
      "pygments_lexer": "ipython3",
      "version": "3.8"
    }
  },
  "nbformat_minor": 4,
  "nbformat": 4,
  "cells": [
    {
      "cell_type": "markdown",
      "source": "Peer Graded Assignment - Nishanthi",
      "metadata": {}
    },
    {
      "cell_type": "markdown",
      "source": "Data Science Tools and Ecosystem",
      "metadata": {}
    },
    {
      "cell_type": "markdown",
      "source": "List of data science languages\nPython.\nR.\nSQL.\nJava.\nJulia.\nScala.\nC/C++.\nJavaScript.",
      "metadata": {}
    },
    {
      "cell_type": "markdown",
      "source": "List of data science libraries\nTensorFlow.\nNumPy.\nSciPy.\nPandas.\nMatplotlib.\nKeras.\nSciKit-Learn.\nPyTorch.\nScrapy.\nBeautifulSoup.\nLightGBM.\nELI5.\nTheano.\nNuPIC.\nRamp.\nPipenv.\nBob.\nPyBrain.\nCaffe2.",
      "metadata": {}
    },
    {
      "cell_type": "markdown",
      "source": "Data Science Tools\t\t\n1.SAS. It is one of those data science tools which are specifically designed for statistical operation\t\t\n2.Apache Spark\t\t\n3.BigML",
      "metadata": {}
    },
    {
      "cell_type": "markdown",
      "source": "Below are a few examples of evaluating arithmetic expressions in Python",
      "metadata": {}
    },
    {
      "cell_type": "code",
      "source": "# Arithmetic operations\ncode = compile(\"5 + 4\", \"<string>\", \"eval\")\neval(code)\n# Result: 9",
      "metadata": {
        "trusted": true
      },
      "outputs": [
        {
          "execution_count": 1,
          "output_type": "execute_result",
          "data": {
            "text/plain": "9"
          },
          "metadata": {}
        }
      ],
      "execution_count": 1
    },
    {
      "cell_type": "code",
      "source": "code1 = compile(\"(5 + 7) * 2\", \"<string>\", \"eval\")\neval(code1)\n# Result: 24",
      "metadata": {
        "trusted": true
      },
      "outputs": [
        {
          "execution_count": 2,
          "output_type": "execute_result",
          "data": {
            "text/plain": "24"
          },
          "metadata": {}
        }
      ],
      "execution_count": 2
    },
    {
      "cell_type": "code",
      "source": "import math\n# Volume of a sphere\ncode2 = compile(\"4 / 3 * math.pi * math.pow(25, 3)\", \"<string>\", \"eval\")\neval(code2)\n# Result: 65449.84694978735",
      "metadata": {
        "trusted": true
      },
      "outputs": [
        {
          "execution_count": 3,
          "output_type": "execute_result",
          "data": {
            "text/plain": "65449.84694978735"
          },
          "metadata": {}
        }
      ],
      "execution_count": 3
    },
    {
      "cell_type": "code",
      "source": "(3*4)+5\n# Result: 17",
      "metadata": {
        "trusted": true
      },
      "outputs": [
        {
          "execution_count": 4,
          "output_type": "execute_result",
          "data": {
            "text/plain": "17"
          },
          "metadata": {}
        }
      ],
      "execution_count": 4
    },
    {
      "cell_type": "markdown",
      "source": "Exercise 9 - Create a code cell to convert minutes to hours. (2 pts)\n\nThis will convert 200 minutes to hours by diving by 60",
      "metadata": {}
    },
    {
      "cell_type": "code",
      "source": "days = 0\nhours = 0\nmins = 0\n\ntime = 200\n#days = time / 1440\nleftover_minutes = time % 1440\nhours = leftover_minutes / 60\n#mins = time - (days*1440) - (hours*60)\nprint(str(days) + \" days, \" + str(hours) + \" hours, \" + str(mins) +  \" mins. \")\n\n# Result: 3.3333333333333335 hours",
      "metadata": {
        "trusted": true
      },
      "outputs": [
        {
          "name": "stdout",
          "text": "0 days, 3.3333333333333335 hours, 0 mins. \n",
          "output_type": "stream"
        }
      ],
      "execution_count": 5
    },
    {
      "cell_type": "markdown",
      "source": "Objectives\n1.To Learn about the different types and categories of tools that data scientists use and popular examples of each\n2.To learn about the various libraries in data science. In addition, you will understand an API in relation to REST request and response\n3.To Learn how to work with different kernels in a Notebook session and about the basic Jupyter architecture. In addition, you will identify the tools in an Anaconda Jupyter environment.\n4.To learn about the different R visualization packages and how to create visual charts using the plot function. In addition, Distributed Version Control Systems (DVCS) have become critical tools in software development and key enablers for social and collaborative coding. While there are many distributed versioning systems, Git is amongst the most popular ones. Further in the module, you will develop the essential conceptual and hands-on skills to work with Git and GitHub. You will start with an overview of Git and GitHub, followed by creation of a GitHub account and a project repository, adding files to it, and committing your changes using the web interface. ",
      "metadata": {}
    },
    {
      "cell_type": "code",
      "source": "Nishanthi - Author",
      "metadata": {
        "trusted": true
      },
      "outputs": [],
      "execution_count": null
    }
  ]
}